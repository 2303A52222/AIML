{
  "nbformat": 4,
  "nbformat_minor": 0,
  "metadata": {
    "colab": {
      "provenance": [],
      "authorship_tag": "ABX9TyMj1NI991Kxz0WA/Dryr+LR",
      "include_colab_link": true
    },
    "kernelspec": {
      "name": "python3",
      "display_name": "Python 3"
    },
    "language_info": {
      "name": "python"
    }
  },
  "cells": [
    {
      "cell_type": "markdown",
      "metadata": {
        "id": "view-in-github",
        "colab_type": "text"
      },
      "source": [
        "<a href=\"https://colab.research.google.com/github/2303A52222/AIML/blob/main/2303A52222_AIML.ipynb\" target=\"_parent\"><img src=\"https://colab.research.google.com/assets/colab-badge.svg\" alt=\"Open In Colab\"/></a>"
      ]
    },
    {
      "cell_type": "markdown",
      "source": [
        "LAB 2:IMPLEMENT BREADTH FIRST ,DEPTH FIRST AND A*SEARCH ALGORITHMS\n",
        "PART 1-IMPLEMENT BREADTH FIRST SEARCH ALGORITHM USING A QUEUE"
      ],
      "metadata": {
        "id": "u2Im6HnvdE1c"
      }
    },
    {
      "cell_type": "markdown",
      "source": [
        "1.Given a graph with adjacency list and  a starting vertex and we have to traverse the graph.\n",
        "2.We will first print the value in the starting vertex.\n",
        "3.Continue to print the value of neighbors of thr stating vertex anad\n",
        "4.Next move on to the next level after completing the current level till all the vertices of the graph are printed."
      ],
      "metadata": {
        "id": "eDwb47fMdo-N"
      }
    },
    {
      "cell_type": "code",
      "source": [
        "from queue import Queue\n",
        "graph={0:[1,3],1:[0,2,3],2:[1,4,5],3:[0,1,4],4:[2,3,5],5:[2,4]}\n",
        "print(\"The adjacency list representing the graph is:\")\n",
        "print(graph)\n",
        "def bfs(graph,start):\n",
        "  Q=Queue()\n",
        "  visited_vertices=set()\n",
        "  Q.put(source)\n",
        "  visited_vertices.update({0})\n",
        "  while not Q.empty():\n",
        "    vertex = Q.get()\n",
        "    print(vertex,end=\"-->\")\n",
        "    for u in graph[vertex]:\n",
        "      if u not in visited_vertices:\n",
        "        Q.put(u)\n",
        "        visited_vertices.update({u})\n",
        "    print(\"BFS traversal of the graph with source is:\")\n",
        "    bfs(graph,0)"
      ],
      "metadata": {
        "colab": {
          "base_uri": "https://localhost:8080/"
        },
        "id": "S6mLdal8eUMa",
        "outputId": "86bbe568-a6f9-4f58-8313-f64dd0c9067e"
      },
      "execution_count": 4,
      "outputs": [
        {
          "output_type": "stream",
          "name": "stdout",
          "text": [
            "The adjacency list representing the graph is:\n",
            "{0: [1, 3], 1: [0, 2, 3], 2: [1, 4, 5], 3: [0, 1, 4], 4: [2, 3, 5], 5: [2, 4]}\n"
          ]
        }
      ]
    }
  ]
}